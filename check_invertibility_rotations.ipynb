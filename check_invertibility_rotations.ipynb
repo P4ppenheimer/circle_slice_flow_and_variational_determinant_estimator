{
 "cells": [
  {
   "cell_type": "code",
   "execution_count": 1,
   "metadata": {},
   "outputs": [],
   "source": [
    "import numpy as np\n",
    "import torch\n",
    "from torch.utils.data import DataLoader\n",
    "import torch.optim as optim\n",
    "import yaml\n",
    "import pprint\n",
    "import os\n",
    "import time\n",
    "# weights and biases for tracking of metrics\n",
    "import wandb \n",
    "# make the plots inline again\n",
    "%matplotlib inline\n",
    "# sometimes have to activate this to plot plots in notebook\n",
    "# matplotlib.use('Qt5Agg')\n",
    "from code import *\n",
    "\n",
    "device = torch.device(\"cuda\" if torch.cuda.is_available() else \"cpu\")"
   ]
  },
  {
   "cell_type": "code",
   "execution_count": 2,
   "metadata": {},
   "outputs": [
    {
     "name": "stdout",
     "output_type": "stream",
     "text": [
      "tensor([[True, True, True,  ..., True, True, True],\n",
      "        [True, True, True,  ..., True, True, True],\n",
      "        [True, True, True,  ..., True, True, True],\n",
      "        ...,\n",
      "        [True, True, True,  ..., True, True, True],\n",
      "        [True, True, True,  ..., True, True, True],\n",
      "        [True, True, True,  ..., True, True, True]], device='cuda:0')\n"
     ]
    }
   ],
   "source": [
    "dim = 80\n",
    "batch = 32\n",
    "\n",
    "rot = Rotation(num_dim_data = dim, \n",
    "       num_dim_conditioner=123,\n",
    "       cap_householder_refl=True)\n",
    "\n",
    "rot.to(device)\n",
    "\n",
    "x = torch.randn(batch,dim).to(device)\n",
    "x = x / torch.norm(x,dim=1,keepdim=True)\n",
    "\n",
    "x_cond = torch.rand(batch,123).to(device)\n",
    "\n",
    "out, sldj,_  = rot(x,0,x_cond)\n",
    "\n",
    "inverse, sldj, _ = rot(out, 0, x_cond,inverse=True)\n",
    "\n",
    "print(torch.isclose(inverse,x))"
   ]
  },
  {
   "cell_type": "code",
   "execution_count": 3,
   "metadata": {},
   "outputs": [
    {
     "name": "stdout",
     "output_type": "stream",
     "text": [
      "tensor([[True, True, True,  ..., True, True, True],\n",
      "        [True, True, True,  ..., True, True, True],\n",
      "        [True, True, True,  ..., True, True, True],\n",
      "        ...,\n",
      "        [True, True, True,  ..., True, True, True],\n",
      "        [True, True, True,  ..., True, True, True],\n",
      "        [True, True, True,  ..., True, True, True]], device='cuda:0')\n"
     ]
    }
   ],
   "source": [
    "dim = 90\n",
    "\n",
    "rot = Rotation(num_dim_data = dim, \n",
    "       num_dim_conditioner=None,\n",
    "       cap_householder_refl=True)\n",
    "\n",
    "rot.to(device)\n",
    "\n",
    "x = torch.randn(batch,dim).to(device)\n",
    "x = x / torch.norm(x,dim=1,keepdim=True)\n",
    "\n",
    "x_cond = None\n",
    "\n",
    "out, sldj,_  = rot(x, 0, x_cond)\n",
    "inverse, sldj, _ = rot(out, 0, x_cond,inverse=True)\n",
    "\n",
    "print(torch.isclose(inverse,x))"
   ]
  },
  {
   "cell_type": "markdown",
   "metadata": {},
   "source": [
    "### Rotation works correctly"
   ]
  },
  {
   "cell_type": "code",
   "execution_count": null,
   "metadata": {},
   "outputs": [],
   "source": []
  }
 ],
 "metadata": {
  "kernelspec": {
   "display_name": "flow_lab",
   "language": "python",
   "name": "flow_lab"
  },
  "language_info": {
   "codemirror_mode": {
    "name": "ipython",
    "version": 3
   },
   "file_extension": ".py",
   "mimetype": "text/x-python",
   "name": "python",
   "nbconvert_exporter": "python",
   "pygments_lexer": "ipython3",
   "version": "3.8.5"
  }
 },
 "nbformat": 4,
 "nbformat_minor": 4
}
