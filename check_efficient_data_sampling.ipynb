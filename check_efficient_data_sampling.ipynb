{
 "cells": [
  {
   "cell_type": "code",
   "execution_count": 7,
   "metadata": {},
   "outputs": [],
   "source": [
    "import numpy as np\n",
    "import torch\n",
    "from torch.utils.data import DataLoader\n",
    "import torch.optim as optim\n",
    "import yaml\n",
    "import pprint\n",
    "import os\n",
    "import time\n",
    "# weights and biases for tracking of metrics\n",
    "import wandb \n",
    "# make the plots inline again\n",
    "%matplotlib inline\n",
    "# sometimes have to activate this to plot plots in notebook\n",
    "# matplotlib.use('Qt5Agg')\n",
    "from code import *\n",
    "\n",
    "device = torch.device(\"cuda\" if torch.cuda.is_available() else \"cpu\")"
   ]
  },
  {
   "cell_type": "code",
   "execution_count": 8,
   "metadata": {},
   "outputs": [],
   "source": [
    "mu_list = np.array([[-4.7503373e-01, -8.7996745e-01, -5.0922018e-04],\n",
    "                    [-1.6167518e-01,  6.5595394e-01, -7.3728257e-01],\n",
    "                    [ 2.6248896e-01,  6.9851363e-01,  6.6571641e-01],\n",
    "                    [ 1.0,  0,  0.0]], dtype='float32')\n",
    "\n",
    "k_list = 1.5*np.array([13, 14,  12, 15],dtype='float32')\n",
    "\n",
    "mu_list = torch.tensor(mu_list)\n",
    "k_list = torch.tensor(k_list)"
   ]
  },
  {
   "cell_type": "code",
   "execution_count": 9,
   "metadata": {},
   "outputs": [],
   "source": [
    "def get_power_spherical_samples(mu_list, k_list, nr_samples):\n",
    "    \"\"\"\n",
    "    Args:\n",
    "        mu_list np.array\n",
    "        k_list np.array\n",
    "        nr_samples scalar\n",
    "    Returns:\n",
    "        out torch.tensor \n",
    "    \"\"\"\n",
    "    nr_mixtures = len(mu_list)\n",
    "    mixt_components = np.random.randint(low=0, high=nr_mixtures,size = nr_samples)\n",
    "\n",
    "    # then count how often every mixture components occurs in sample\n",
    "    # mix_comp_counter is dict with mix comps as keys and nr of samplings as values\n",
    "    mix_comp_counter = Counter(mixt_components)\n",
    "    \n",
    "    print(mix_comp_counter)\n",
    "\n",
    "    data = torch.tensor([])\n",
    "\n",
    "    # the sample for each mixture component, as many samples as they occured in the sampling of the components\n",
    "\n",
    "    for mix_comp in mix_comp_counter:\n",
    "\n",
    "        dist = PowerSpherical(loc=mu_list[mix_comp].clone().detach().float(), \n",
    "                              scale=k_list[mix_comp].clone().detach().float())\n",
    "\n",
    "        sample_per_comp = dist.sample((mix_comp_counter[mix_comp],))\n",
    "\n",
    "        data = torch.cat([data, sample_per_comp], dim=0)\n",
    "\n",
    "    # shuffle tensor\n",
    "    return data[torch.randperm(nr_samples),:]"
   ]
  },
  {
   "cell_type": "code",
   "execution_count": 10,
   "metadata": {},
   "outputs": [
    {
     "name": "stdout",
     "output_type": "stream",
     "text": [
      "Counter({1: 1})\n",
      "Counter({2: 1})\n",
      "Counter({1: 1})\n",
      "Counter({0: 1})\n",
      "Counter({3: 1})\n",
      "Counter({0: 1})\n",
      "Counter({2: 1})\n",
      "Counter({2: 1})\n",
      "Counter({3: 1})\n",
      "Counter({2: 1})\n",
      "time 0.017911672592163086\n"
     ]
    }
   ],
   "source": [
    "import time\n",
    "start_time = time.time()\n",
    "for _ in range(int(1e1)):\n",
    "    data = get_power_spherical_samples(mu_list, k_list, 1)\n",
    "print(f'time {time.time() - start_time}')"
   ]
  },
  {
   "cell_type": "code",
   "execution_count": 11,
   "metadata": {},
   "outputs": [
    {
     "name": "stdout",
     "output_type": "stream",
     "text": [
      "Counter({0: 281, 3: 264, 1: 244, 2: 211})\n",
      "time 0.004645347595214844\n"
     ]
    }
   ],
   "source": [
    "start_time = time.time()\n",
    "data = get_power_spherical_samples(mu_list, k_list, int(1e3))\n",
    "print(f'time {time.time() - start_time}')"
   ]
  },
  {
   "cell_type": "code",
   "execution_count": 12,
   "metadata": {},
   "outputs": [
    {
     "name": "stdout",
     "output_type": "stream",
     "text": [
      "Secs for entropy calc 0.7115859985351562\n",
      "torch.Size([256, 3])\n"
     ]
    }
   ],
   "source": [
    "power_spherical_data = PowerSphericalData(mu_list=mu_list, k_list=k_list, nr_samples=int(1e3))\n",
    "\n",
    "train_loader = DataLoader(power_spherical_data, batch_size=256, shuffle=True)\n",
    "\n",
    "for train_set in train_loader:\n",
    "    print(train_set.shape)\n",
    "    break"
   ]
  },
  {
   "cell_type": "code",
   "execution_count": null,
   "metadata": {},
   "outputs": [],
   "source": []
  }
 ],
 "metadata": {
  "kernelspec": {
   "display_name": "flow_lab",
   "language": "python",
   "name": "flow_lab"
  },
  "language_info": {
   "codemirror_mode": {
    "name": "ipython",
    "version": 3
   },
   "file_extension": ".py",
   "mimetype": "text/x-python",
   "name": "python",
   "nbconvert_exporter": "python",
   "pygments_lexer": "ipython3",
   "version": "3.8.5"
  }
 },
 "nbformat": 4,
 "nbformat_minor": 4
}
